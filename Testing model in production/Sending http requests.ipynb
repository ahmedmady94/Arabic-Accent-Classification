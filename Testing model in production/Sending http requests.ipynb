{
 "cells": [
  {
   "cell_type": "markdown",
   "id": "482661c5",
   "metadata": {},
   "source": [
    "### Importing Relevant packages"
   ]
  },
  {
   "cell_type": "code",
   "execution_count": 1,
   "id": "af1d57e3",
   "metadata": {},
   "outputs": [],
   "source": [
    "import requests"
   ]
  },
  {
   "cell_type": "markdown",
   "id": "0a5f3a22",
   "metadata": {},
   "source": [
    "### Initializing our web url"
   ]
  },
  {
   "cell_type": "code",
   "execution_count": 2,
   "id": "c4ac73c1",
   "metadata": {},
   "outputs": [],
   "source": [
    "base_site=\" https://accent-prediction.azurewebsites.net/predict_api\"\n"
   ]
  },
  {
   "cell_type": "markdown",
   "id": "882c13ce",
   "metadata": {},
   "source": [
    "### Outlining our data"
   ]
  },
  {
   "cell_type": "code",
   "execution_count": 3,
   "id": "b7c1703b",
   "metadata": {},
   "outputs": [],
   "source": [
    "data=['زول','شو هذا','راح اقوصك','كتير حلو','العمى بعيونك','ما بدى','هيدا هوا','الاقصى']"
   ]
  },
  {
   "cell_type": "markdown",
   "id": "ce76860f",
   "metadata": {},
   "source": [
    "### Sending post request"
   ]
  },
  {
   "cell_type": "code",
   "execution_count": 4,
   "id": "eed01d87",
   "metadata": {},
   "outputs": [],
   "source": [
    "r= requests.post(url=base_site,json=data)\n"
   ]
  },
  {
   "cell_type": "code",
   "execution_count": 7,
   "id": "22106a2a",
   "metadata": {},
   "outputs": [
    {
     "data": {
      "text/plain": [
       "['SD', 'AE', 'KW', 'EG', 'LB', 'LY', 'LB', 'PL']"
      ]
     },
     "execution_count": 7,
     "metadata": {},
     "output_type": "execute_result"
    }
   ],
   "source": [
    "r.json()"
   ]
  },
  {
   "cell_type": "markdown",
   "id": "ae77a039",
   "metadata": {},
   "source": [
    "### Getting response"
   ]
  },
  {
   "cell_type": "code",
   "execution_count": 5,
   "id": "bb0a2579",
   "metadata": {},
   "outputs": [
    {
     "data": {
      "text/plain": [
       "(<Response [200]>, True)"
      ]
     },
     "execution_count": 5,
     "metadata": {},
     "output_type": "execute_result"
    }
   ],
   "source": [
    "r,r.ok"
   ]
  },
  {
   "cell_type": "code",
   "execution_count": 6,
   "id": "a7b18750",
   "metadata": {},
   "outputs": [
    {
     "data": {
      "text/plain": [
       "{'زول': 'SD',\n",
       " 'شو هذا': 'AE',\n",
       " 'راح اقوصك': 'KW',\n",
       " 'كتير حلو': 'EG',\n",
       " 'العمى بعيونك': 'LB',\n",
       " 'ما بدى': 'LY',\n",
       " 'هيدا هوا': 'LB',\n",
       " 'الاقصى': 'PL'}"
      ]
     },
     "execution_count": 6,
     "metadata": {},
     "output_type": "execute_result"
    }
   ],
   "source": [
    "dict(zip(data,r.json()))"
   ]
  },
  {
   "cell_type": "code",
   "execution_count": null,
   "id": "f833ada6",
   "metadata": {},
   "outputs": [],
   "source": []
  }
 ],
 "metadata": {
  "kernelspec": {
   "display_name": "Python 3 (ipykernel)",
   "language": "python",
   "name": "python3"
  },
  "language_info": {
   "codemirror_mode": {
    "name": "ipython",
    "version": 3
   },
   "file_extension": ".py",
   "mimetype": "text/x-python",
   "name": "python",
   "nbconvert_exporter": "python",
   "pygments_lexer": "ipython3",
   "version": "3.8.12"
  }
 },
 "nbformat": 4,
 "nbformat_minor": 5
}
