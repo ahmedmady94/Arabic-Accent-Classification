{
 "cells": [
  {
   "cell_type": "markdown",
   "id": "a89eaf82",
   "metadata": {},
   "source": [
    "### Importing relevant packages"
   ]
  },
  {
   "cell_type": "code",
   "execution_count": 35,
   "id": "5570596a",
   "metadata": {},
   "outputs": [],
   "source": [
    "import pandas as pd\n",
    "import requests\n",
    "import re"
   ]
  },
  {
   "cell_type": "markdown",
   "id": "7001a2f9",
   "metadata": {},
   "source": [
    "### Loading our data"
   ]
  },
  {
   "cell_type": "code",
   "execution_count": 2,
   "id": "f3f7d740",
   "metadata": {},
   "outputs": [],
   "source": [
    "df=pd.read_csv('dialect_dataset.csv')\n",
    "df.head()"
   ]
  },
  {
   "cell_type": "markdown",
   "id": "a9d9ec9e",
   "metadata": {},
   "source": [
    "### Creating our list of IDs"
   ]
  },
  {
   "cell_type": "code",
   "execution_count": 4,
   "id": "f46295a7",
   "metadata": {},
   "outputs": [],
   "source": [
    "id_list= [str(i) for i in df.id.values.tolist()]"
   ]
  },
  {
   "cell_type": "code",
   "execution_count": 42,
   "id": "fad244b0",
   "metadata": {},
   "outputs": [
    {
     "data": {
      "text/plain": [
       "['1175358310087892992',\n",
       " '1175416117793349632',\n",
       " '1175450108898565888',\n",
       " '1175471073770573824',\n",
       " '1175496913145217024',\n",
       " '1175668034146643968',\n",
       " '1175670153884983296',\n",
       " '1175671762580856832',\n",
       " '1175715664398561280',\n",
       " '1176019816072777728']"
      ]
     },
     "execution_count": 42,
     "metadata": {},
     "output_type": "execute_result"
    }
   ],
   "source": [
    "id_list[:10]"
   ]
  },
  {
   "cell_type": "markdown",
   "id": "816e27f9",
   "metadata": {},
   "source": [
    "### Dividing Id list into chuncks"
   ]
  },
  {
   "cell_type": "code",
   "execution_count": 6,
   "id": "b605dfdb",
   "metadata": {},
   "outputs": [],
   "source": [
    "def get_chunks(lst, n):\n",
    "    \"\"\"Yield successive n-sized chunks from lst.\"\"\"\n",
    "    for i in range(0, len(lst), n):\n",
    "        yield lst[i:i + n]"
   ]
  },
  {
   "cell_type": "code",
   "execution_count": 7,
   "id": "95b9b4ed",
   "metadata": {},
   "outputs": [],
   "source": [
    "chuncks= [i for i in get_chunks(id_list,1000)]    "
   ]
  },
  {
   "cell_type": "code",
   "execution_count": 8,
   "id": "97f21baa",
   "metadata": {},
   "outputs": [
    {
     "data": {
      "text/plain": [
       "1000"
      ]
     },
     "execution_count": 8,
     "metadata": {},
     "output_type": "execute_result"
    }
   ],
   "source": [
    "len(chuncks[1])"
   ]
  },
  {
   "cell_type": "markdown",
   "id": "d74100e3",
   "metadata": {},
   "source": [
    "### Sending http request to get data from api"
   ]
  },
  {
   "cell_type": "code",
   "execution_count": 9,
   "id": "25e318bd",
   "metadata": {},
   "outputs": [],
   "source": [
    "base_site=\"https://recruitment.aimtechnologies.co/ai-tasks\""
   ]
  },
  {
   "cell_type": "code",
   "execution_count": 11,
   "id": "6d4a5078",
   "metadata": {},
   "outputs": [],
   "source": [
    "text=[requests.post(url=base_site,json=chunck).json() for chunck in  chuncks]"
   ]
  },
  {
   "cell_type": "code",
   "execution_count": 30,
   "id": "cee30c40",
   "metadata": {},
   "outputs": [],
   "source": [
    "text_list= []\n",
    "\n",
    "for i in text:\n",
    "    text_list.extend(list(i.values()))"
   ]
  },
  {
   "cell_type": "code",
   "execution_count": 34,
   "id": "48472a5c",
   "metadata": {},
   "outputs": [
    {
     "data": {
      "text/plain": [
       "['@Nw8ieJUwaCAAreT لكن بالنهاية .. ينتفض .. يغير .',\n",
       " '@7zNqXP0yrODdRjK يعني هذا محسوب على البشر .. حيونه ووحشيه .. وتطلبون من الغرب يحترمكم ويؤمن بدينكم ولاينعتكم بالإرهاب ..',\n",
       " '@KanaanRema مبين من كلامه خليجي',\n",
       " '@HAIDER76128900 يسلملي مرورك وروحك الحلوه💐',\n",
       " '@hmo2406 وين هل الغيبه  اخ محمد 🌸🌺',\n",
       " '@Badi9595 @KanaanRema يااخي الإرهابي اذا كان عراقي سعودي فلسطيني وين المشكلة على باب الفرض...خليجي وماعنده رحمه وين المساس بقدسيتك .. الله يرضى عنك خلصت مشاكل العرب واختلفنا بجنسيت ابو الطفل .. المغردين سألوا من وين ورجحت وين الكارثة اللي وصلتك',\n",
       " '@SarahNadhum90 @nUBNTdfVgACYQxV مطلبي يقدم استقالته وفوگاها اعتذار',\n",
       " '@KanaanRema @Badi9595 خلص والله لعيونكم انا ماعندي شيء معه بالعكس من متابعيني اللي بعتز فيهم ... خلص صافية لبن 🌸🙏🌷',\n",
       " '@SalahAlarbawi يمكن سؤال فات الكثير اللي يصور   شنو موقفه وكأنه يوثق بطوله .. المفروض حتى المصور يحال للقضاء لان نظرات الطفله تستنجد باتجاه الكاميرا..',\n",
       " '@Eng_alow91 @cb4LwpWrS1hT5lb @EdyCohen اولا اني ردت على رجل جنوبي واللي ذكر حجابها ... ثانياً انت شدعوه صايره محامي لكوهين ... صحيح مقولة العراق بلد الغرائب والعجائب']"
      ]
     },
     "execution_count": 34,
     "metadata": {},
     "output_type": "execute_result"
    }
   ],
   "source": [
    "text_list[:10]"
   ]
  },
  {
   "cell_type": "markdown",
   "id": "d13ff1cf",
   "metadata": {},
   "source": [
    "### Data cleaning"
   ]
  },
  {
   "cell_type": "code",
   "execution_count": 36,
   "id": "d65ecd7b",
   "metadata": {},
   "outputs": [],
   "source": [
    "clean_text_list = [' '.join(re.findall('[^@!#$%&*()a-zA-Z0-9\\s]+',s)) for s in text_list]"
   ]
  },
  {
   "cell_type": "code",
   "execution_count": 41,
   "id": "efd7f576",
   "metadata": {},
   "outputs": [
    {
     "data": {
      "text/plain": [
       "'وين هل الغيبه اخ محمد 🌸🌺'"
      ]
     },
     "execution_count": 41,
     "metadata": {},
     "output_type": "execute_result"
    }
   ],
   "source": [
    "clean_text_list[4]"
   ]
  },
  {
   "cell_type": "markdown",
   "id": "6cb071d8",
   "metadata": {},
   "source": [
    "### Saving our data in csv file"
   ]
  },
  {
   "cell_type": "code",
   "execution_count": 44,
   "id": "f83de5e4",
   "metadata": {},
   "outputs": [],
   "source": [
    "data=pd.DataFrame()\n",
    "data['sentences']=clean_text_list\n",
    "data['dialect']=df.dialect\n"
   ]
  },
  {
   "cell_type": "code",
   "execution_count": 46,
   "id": "2b0f5dfc",
   "metadata": {},
   "outputs": [],
   "source": [
    "data.to_csv('data.csv',index=False)"
   ]
  }
 ],
 "metadata": {
  "kernelspec": {
   "display_name": "Python 3 (ipykernel)",
   "language": "python",
   "name": "python3"
  },
  "language_info": {
   "codemirror_mode": {
    "name": "ipython",
    "version": 3
   },
   "file_extension": ".py",
   "mimetype": "text/x-python",
   "name": "python",
   "nbconvert_exporter": "python",
   "pygments_lexer": "ipython3",
   "version": "3.9.7"
  }
 },
 "nbformat": 4,
 "nbformat_minor": 5
}
