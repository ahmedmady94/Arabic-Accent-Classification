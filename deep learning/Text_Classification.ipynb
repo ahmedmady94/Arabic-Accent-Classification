{
 "cells": [
  {
   "cell_type": "markdown",
   "id": "952951ce",
   "metadata": {
    "id": "952951ce"
   },
   "source": [
    "### Importing relevant packages"
   ]
  },
  {
   "cell_type": "code",
   "execution_count": 1,
   "id": "ac7245b6",
   "metadata": {
    "id": "ac7245b6"
   },
   "outputs": [],
   "source": [
    "import tensorflow as tf\n",
    "import numpy as np"
   ]
  },
  {
   "cell_type": "markdown",
   "id": "8ac5ea4e",
   "metadata": {},
   "source": [
    "### Loading drive on colab"
   ]
  },
  {
   "cell_type": "code",
   "execution_count": 1,
   "id": "vdWm2wUcAriV",
   "metadata": {
    "colab": {
     "base_uri": "https://localhost:8080/"
    },
    "id": "vdWm2wUcAriV",
    "outputId": "c26ef8e1-6f0b-479a-b42e-b87ff8e76692"
   },
   "outputs": [
    {
     "name": "stdout",
     "output_type": "stream",
     "text": [
      "Drive already mounted at /content/drive; to attempt to forcibly remount, call drive.mount(\"/content/drive\", force_remount=True).\n"
     ]
    }
   ],
   "source": [
    "from google.colab import drive\n",
    "drive.mount('/content/drive')"
   ]
  },
  {
   "cell_type": "code",
   "execution_count": 2,
   "id": "oJZ7lbVKBQJ7",
   "metadata": {
    "id": "oJZ7lbVKBQJ7"
   },
   "outputs": [],
   "source": [
    "train_path ='drive/MyDrive/train_data.npz'\n",
    "validation_path ='drive/MyDrive/validation_data.npz'"
   ]
  },
  {
   "cell_type": "markdown",
   "id": "d4151935",
   "metadata": {
    "id": "d4151935"
   },
   "source": [
    "### Loading our data"
   ]
  },
  {
   "cell_type": "code",
   "execution_count": 8,
   "id": "84a1ba26",
   "metadata": {
    "id": "84a1ba26"
   },
   "outputs": [],
   "source": [
    "npz = np.load(train_path)\n",
    "train_inputs,train_targets = npz['inputs'].astype('float'), npz['targets'].astype('int')\n",
    " \n",
    "\n",
    "npz = np.load(validation_path)\n",
    "validation_inputs, validation_targets = npz['inputs'].astype('float'), npz['targets'].astype('int')"
   ]
  },
  {
   "cell_type": "markdown",
   "id": "12edf605",
   "metadata": {
    "id": "f67fe7c1"
   },
   "source": [
    "### Defining vocab size"
   ]
  },
  {
   "cell_type": "code",
   "execution_count": 5,
   "id": "99bc9574",
   "metadata": {
    "id": "99bc9574"
   },
   "outputs": [],
   "source": [
    "VOCAB_SIZE= 482112 +1"
   ]
  },
  {
   "cell_type": "markdown",
   "id": "27a3177e",
   "metadata": {
    "id": "22085e76"
   },
   "source": [
    "### Outlining our model"
   ]
  },
  {
   "cell_type": "code",
   "execution_count": 68,
   "id": "2b473af1",
   "metadata": {
    "id": "2b473af1"
   },
   "outputs": [],
   "source": [
    "model = tf.keras.models.Sequential([    \n",
    "    tf.keras.layers.Embedding(input_dim=VOCAB_SIZE,output_dim=16,input_length=20),\n",
    "    tf.keras.layers.Flatten(),\n",
    "    tf.keras.layers.Dense(32, activation='relu'),\n",
    "    tf.keras.layers.Dense(18, activation='softmax')\n",
    "])"
   ]
  },
  {
   "cell_type": "code",
   "execution_count": 69,
   "id": "5b224edb",
   "metadata": {
    "colab": {
     "base_uri": "https://localhost:8080/"
    },
    "id": "5b224edb",
    "outputId": "ee4b80b3-8ead-4434-faa6-8a737da6040b"
   },
   "outputs": [
    {
     "name": "stdout",
     "output_type": "stream",
     "text": [
      "Model: \"sequential_12\"\n",
      "_________________________________________________________________\n",
      " Layer (type)                Output Shape              Param #   \n",
      "=================================================================\n",
      " embedding_12 (Embedding)    (None, 20, 16)            7713808   \n",
      "                                                                 \n",
      " flatten_11 (Flatten)        (None, 320)               0         \n",
      "                                                                 \n",
      " dense_24 (Dense)            (None, 32)                10272     \n",
      "                                                                 \n",
      " dense_25 (Dense)            (None, 18)                594       \n",
      "                                                                 \n",
      "=================================================================\n",
      "Total params: 7,724,674\n",
      "Trainable params: 7,724,674\n",
      "Non-trainable params: 0\n",
      "_________________________________________________________________\n"
     ]
    }
   ],
   "source": [
    "model.summary()"
   ]
  },
  {
   "cell_type": "code",
   "execution_count": 70,
   "id": "765baa32",
   "metadata": {
    "id": "765baa32"
   },
   "outputs": [],
   "source": [
    "model.compile(loss=tf.keras.losses.SparseCategoricalCrossentropy(from_logits=True),\n",
    "              optimizer=tf.keras.optimizers.Adam(),\n",
    "              metrics=['accuracy'])"
   ]
  },
  {
   "cell_type": "code",
   "execution_count": 71,
   "id": "r5PageHxB9Gc",
   "metadata": {
    "id": "r5PageHxB9Gc"
   },
   "outputs": [],
   "source": [
    "early_stopping = tf.keras.callbacks.EarlyStopping(\n",
    "monitor='val_accuracy',\n",
    "patience=2,\n",
    "restore_best_weights=True)"
   ]
  },
  {
   "cell_type": "markdown",
   "id": "deb7ceab",
   "metadata": {},
   "source": [
    "### Fitting our model"
   ]
  },
  {
   "cell_type": "code",
   "execution_count": 72,
   "id": "1e854c16",
   "metadata": {
    "colab": {
     "base_uri": "https://localhost:8080/"
    },
    "id": "1e854c16",
    "outputId": "89185b43-9a39-4aed-e513-afb677eec8b5",
    "scrolled": true
   },
   "outputs": [
    {
     "name": "stdout",
     "output_type": "stream",
     "text": [
      "Epoch 1/20\n"
     ]
    },
    {
     "name": "stderr",
     "output_type": "stream",
     "text": [
      "/usr/local/lib/python3.7/dist-packages/tensorflow/python/util/dispatch.py:1082: UserWarning: \"`sparse_categorical_crossentropy` received `from_logits=True`, but the `output` argument was produced by a sigmoid or softmax activation and thus does not represent logits. Was this intended?\"\n",
      "  return dispatch_target(*args, **kwargs)\n"
     ]
    },
    {
     "name": "stdout",
     "output_type": "stream",
     "text": [
      "403/403 [==============================] - 3s 8ms/step - loss: 2.4121 - accuracy: 0.2341 - val_loss: 1.9713 - val_accuracy: 0.3672\n",
      "Epoch 2/20\n",
      "403/403 [==============================] - 3s 7ms/step - loss: 1.6689 - accuracy: 0.4711 - val_loss: 1.7156 - val_accuracy: 0.4600\n",
      "Epoch 3/20\n",
      "403/403 [==============================] - 3s 7ms/step - loss: 1.2175 - accuracy: 0.6289 - val_loss: 1.6989 - val_accuracy: 0.4834\n",
      "Epoch 4/20\n",
      "403/403 [==============================] - 3s 7ms/step - loss: 0.8742 - accuracy: 0.7464 - val_loss: 1.8084 - val_accuracy: 0.4823\n",
      "Epoch 5/20\n",
      "403/403 [==============================] - 3s 7ms/step - loss: 0.6317 - accuracy: 0.8240 - val_loss: 1.9798 - val_accuracy: 0.4705\n"
     ]
    }
   ],
   "source": [
    "history = model.fit(train_inputs,\n",
    "                    train_targets,\n",
    "                    epochs=20,\n",
    "                    validation_data=(validation_inputs, validation_targets), \n",
    "                    validation_steps=30,\n",
    "                    shuffle=True,\n",
    "                    batch_size=1024,\n",
    "                    callbacks=[early_stopping])"
   ]
  },
  {
   "cell_type": "markdown",
   "id": "b78f95ed",
   "metadata": {},
   "source": [
    "### Evaluating model"
   ]
  },
  {
   "cell_type": "code",
   "execution_count": 59,
   "id": "e336f024",
   "metadata": {
    "colab": {
     "base_uri": "https://localhost:8080/"
    },
    "id": "e336f024",
    "outputId": "aa5fe4f9-ea45-4738-f872-1aa85a7451a8"
   },
   "outputs": [
    {
     "name": "stdout",
     "output_type": "stream",
     "text": [
      "1432/1432 [==============================] - 3s 2ms/step - loss: 1.7189 - accuracy: 0.4819\n"
     ]
    },
    {
     "data": {
      "text/plain": [
       "[1.7189421653747559, 0.48192930221557617]"
      ]
     },
     "execution_count": 59,
     "metadata": {},
     "output_type": "execute_result"
    }
   ],
   "source": [
    "model.evaluate(validation_inputs,validation_targets)"
   ]
  },
  {
   "cell_type": "markdown",
   "id": "8d36c78e",
   "metadata": {},
   "source": [
    "### Saving our model"
   ]
  },
  {
   "cell_type": "code",
   "execution_count": 60,
   "id": "rES7DGSlcWER",
   "metadata": {
    "id": "rES7DGSlcWER"
   },
   "outputs": [],
   "source": [
    "model.save('model.h5') "
   ]
  },
  {
   "cell_type": "code",
   "execution_count": 2,
   "id": "93f310e7",
   "metadata": {},
   "outputs": [],
   "source": []
  }
 ],
 "metadata": {
  "accelerator": "GPU",
  "colab": {
   "name": "Text Classification.ipynb",
   "provenance": []
  },
  "kernelspec": {
   "display_name": "Python 3 (ipykernel)",
   "language": "python",
   "name": "python3"
  },
  "language_info": {
   "codemirror_mode": {
    "name": "ipython",
    "version": 3
   },
   "file_extension": ".py",
   "mimetype": "text/x-python",
   "name": "python",
   "nbconvert_exporter": "python",
   "pygments_lexer": "ipython3",
   "version": "3.8.12"
  }
 },
 "nbformat": 4,
 "nbformat_minor": 5
}
